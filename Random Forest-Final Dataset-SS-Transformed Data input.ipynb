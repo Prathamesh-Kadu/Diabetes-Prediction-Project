{
 "cells": [
  {
   "cell_type": "code",
   "execution_count": 1,
   "id": "1bda8b48-2547-4d0c-bcd3-1c2b6508a8c9",
   "metadata": {},
   "outputs": [],
   "source": [
    "import pandas as pd\n",
    "import numpy as np\n",
    "import joblib\n",
    "from sklearn.model_selection import train_test_split\n",
    "from sklearn.ensemble import RandomForestClassifier\n",
    "from sklearn.metrics import accuracy_score, classification_report, confusion_matrix\n",
    "from sklearn.preprocessing import StandardScaler\n",
    "from sklearn.model_selection import cross_val_score"
   ]
  },
  {
   "cell_type": "code",
   "execution_count": 2,
   "id": "b4d83976-9f8e-4f3d-a870-ec2434fee275",
   "metadata": {},
   "outputs": [],
   "source": [
    "data = pd.read_csv('diabetes_dataset.csv')"
   ]
  },
  {
   "cell_type": "code",
   "execution_count": 3,
   "id": "5b6a02d7-6880-469c-a950-ad862db02341",
   "metadata": {},
   "outputs": [],
   "source": [
    "x = data.drop(columns=['Diabetic'])\n",
    "y = data['Diabetic']"
   ]
  },
  {
   "cell_type": "code",
   "execution_count": 4,
   "id": "afc87e7f-5cda-4cd0-bc5e-3deb54716470",
   "metadata": {},
   "outputs": [],
   "source": [
    "x_train, x_test, y_train, y_test = train_test_split(x, y, test_size=0.7, random_state = 40)"
   ]
  },
  {
   "cell_type": "code",
   "execution_count": 5,
   "id": "3cf03030-79c7-4fdf-99fc-8e580fbda66d",
   "metadata": {},
   "outputs": [],
   "source": [
    "scaler = StandardScaler()\n",
    "x_train_scaled = scaler.fit_transform(x_train)\n",
    "x_test_scaled = scaler.transform(x_test)"
   ]
  },
  {
   "cell_type": "code",
   "execution_count": 6,
   "id": "381e3a32-fcd7-44fa-9377-5bf805ad8737",
   "metadata": {},
   "outputs": [],
   "source": [
    "random_forest = RandomForestClassifier(n_estimators=80, random_state = 42)\n",
    "random_forest.fit(x_train_scaled, y_train)\n",
    "y_pred = random_forest.predict(x_test_scaled)"
   ]
  },
  {
   "cell_type": "code",
   "execution_count": 7,
   "id": "e7ee0336-bd5f-4ec4-938e-d231cfd7eab9",
   "metadata": {},
   "outputs": [
    {
     "name": "stdout",
     "output_type": "stream",
     "text": [
      "Accuracy: 0.9397590361445783\n"
     ]
    }
   ],
   "source": [
    "accuracy = accuracy_score(y_test, y_pred)\n",
    "print(\"Accuracy:\", accuracy)"
   ]
  },
  {
   "cell_type": "code",
   "execution_count": 8,
   "id": "c9a15b05-b702-434e-821b-cba0b9ebea14",
   "metadata": {},
   "outputs": [
    {
     "name": "stdout",
     "output_type": "stream",
     "text": [
      "\n",
      "Classification Report:\n",
      "              precision    recall  f1-score   support\n",
      "\n",
      "           0       0.95      0.96      0.96       483\n",
      "           1       0.90      0.88      0.89       181\n",
      "\n",
      "    accuracy                           0.94       664\n",
      "   macro avg       0.93      0.92      0.92       664\n",
      "weighted avg       0.94      0.94      0.94       664\n",
      "\n"
     ]
    }
   ],
   "source": [
    "print(\"\\nClassification Report:\")\n",
    "print(classification_report(y_test, y_pred))"
   ]
  },
  {
   "cell_type": "code",
   "execution_count": 9,
   "id": "deac064c-08f3-46f3-b622-d0ab35c74d2e",
   "metadata": {},
   "outputs": [
    {
     "name": "stdout",
     "output_type": "stream",
     "text": [
      "\n",
      "Confusion Matrix:\n",
      "[[465  18]\n",
      " [ 22 159]]\n"
     ]
    }
   ],
   "source": [
    "print(\"\\nConfusion Matrix:\")\n",
    "print(confusion_matrix(y_test, y_pred))"
   ]
  },
  {
   "cell_type": "code",
   "execution_count": 10,
   "id": "6bfba4ee-9e91-4637-a445-74a4d5ae04e7",
   "metadata": {},
   "outputs": [
    {
     "name": "stdout",
     "output_type": "stream",
     "text": [
      "\n",
      "Cross-Validation Scores: [0.97894737 0.93684211 0.95789474 0.97354497 0.98412698]\n",
      "Mean Accuracy with cross-validation: 0.9662712336396547\n"
     ]
    }
   ],
   "source": [
    "cv_scores = cross_val_score(random_forest, x, y, cv=5)\n",
    "print(\"\\nCross-Validation Scores:\", cv_scores)\n",
    "print(\"Mean Accuracy with cross-validation:\", cv_scores.mean())"
   ]
  },
  {
   "cell_type": "code",
   "execution_count": 11,
   "id": "d1cfc97f-e650-4028-8b6d-8fbc2f7c72ae",
   "metadata": {},
   "outputs": [
    {
     "name": "stdout",
     "output_type": "stream",
     "text": [
      "Predicted outcome: [1]\n",
      "Probability of diabetes happening:0.69%.\n"
     ]
    }
   ],
   "source": [
    "input_data = {\n",
    "    'BMI': 21,\n",
    "    'Sleep': 10,\n",
    "    'SoundSleep': 10,\n",
    "    'Pregancies': 0,\n",
    "    'Age': 1,\n",
    "    'highBP': 1,\n",
    "    'Smoking': 0,\n",
    "    'BPLevel': 2,\n",
    "    'Pdiabetes': 0,\n",
    "    'Stress': 1,\n",
    "    'Family_Diabetes': 0,\n",
    "    'PhysicallyActive': 3,\n",
    "    'Alcohol': 1,\n",
    "    'UriationFreq': 0,\n",
    "    'JunkFood': 0,\n",
    "    'Gender': 1,\n",
    "    'RegularMedicine': 0\n",
    "}\n",
    "\n",
    "input_df = pd.DataFrame([input_data])\n",
    "scaled_input = scaler.transform(input_df)\n",
    "predictions = random_forest.predict(scaled_input)\n",
    "print(\"Predicted outcome:\", predictions)\n",
    "prediction_proba = random_forest.predict_proba(scaled_input)\n",
    "diabetes_proba = prediction_proba[0][1]\n",
    "output = ('{0:.{1}f}'.format(diabetes_proba, 2))\n",
    "print(f\"Probability of diabetes happening:{output}%.\")"
   ]
  },
  {
   "cell_type": "code",
   "execution_count": 12,
   "id": "ec304955-be9f-4555-aaff-704b9b98251d",
   "metadata": {},
   "outputs": [
    {
     "data": {
      "text/plain": [
       "['scaler.joblib']"
      ]
     },
     "execution_count": 12,
     "metadata": {},
     "output_type": "execute_result"
    }
   ],
   "source": [
    "joblib.dump(random_forest, 'rf_model_1.joblib')\n",
    "joblib.dump(scaler, 'scaler.joblib')"
   ]
  },
  {
   "cell_type": "code",
   "execution_count": null,
   "id": "e5e45dd5-a1dc-4d0b-995f-11471caa74e4",
   "metadata": {},
   "outputs": [],
   "source": []
  }
 ],
 "metadata": {
  "kernelspec": {
   "display_name": "Python 3 (ipykernel)",
   "language": "python",
   "name": "python3"
  },
  "language_info": {
   "codemirror_mode": {
    "name": "ipython",
    "version": 3
   },
   "file_extension": ".py",
   "mimetype": "text/x-python",
   "name": "python",
   "nbconvert_exporter": "python",
   "pygments_lexer": "ipython3",
   "version": "3.12.2"
  }
 },
 "nbformat": 4,
 "nbformat_minor": 5
}
